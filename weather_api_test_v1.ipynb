{
 "cells": [
  {
   "cell_type": "code",
   "execution_count": 85,
   "id": "a805dd6e",
   "metadata": {},
   "outputs": [],
   "source": [
    "# !pip install requests"
   ]
  },
  {
   "cell_type": "code",
   "execution_count": 86,
   "id": "dc3edd33",
   "metadata": {},
   "outputs": [],
   "source": [
    "import requests as requests\n",
    "import json\n",
    "import datetime as dt"
   ]
  },
  {
   "cell_type": "code",
   "execution_count": 87,
   "id": "1cae82ed",
   "metadata": {},
   "outputs": [],
   "source": [
    "key = \"RCWWMPLADXCCSTWC9Q6KCL9PG\"\n",
    "requester_name = \"Spitkovska Vladyslava\"\n",
    "#here i`m going to check my program with pre-defined values for input, whereas in main code they'll be taken from recieved request (via postman)"
   ]
  },
  {
   "cell_type": "code",
   "execution_count": 88,
   "id": "a33342b6",
   "metadata": {},
   "outputs": [],
   "source": [
    "date_str = \"2024-02-10\"\n",
    "location = \"London, UK\"\n",
    "# url = f\"https://weather.visualcrossing.com/VisualCrossingWebServices/rest/services/timeline/{location}/{date_str}?include=days&elements=&key={key}\"\n",
    "url = f\"https://weather.visualcrossing.com/VisualCrossingWebServices/rest/services/timeline/{location}/{date_str}?include=days&elements=pressure,temp,windspeed,humidity&key={key}\"\n",
    "\n",
    "\n",
    "#collecting info from the weather api\n",
    "headers = {\n",
    "  'X-Api-Key': key\n",
    "}\n",
    "\n",
    "response = requests.get(url, headers=headers)"
   ]
  },
  {
   "cell_type": "code",
   "execution_count": 89,
   "id": "76db14c4-a6d5-4fff-bbeb-a352363dd1a9",
   "metadata": {},
   "outputs": [
    {
     "name": "stdout",
     "output_type": "stream",
     "text": [
      "{\"queryCost\":1,\"latitude\":51.5064,\"longitude\":-0.12721,\"resolvedAddress\":\"London, England, United Kingdom\",\"address\":\"London, UK\",\"timezone\":\"Europe/London\",\"tzoffset\":0.0,\"days\":[{\"temp\":49.3,\"humidity\":87.8,\"windspeed\":6.9,\"pressure\":983.1}]}\n"
     ]
    }
   ],
   "source": [
    "#if the error pops out\n",
    "if response.status_code == requests.codes.ok:\n",
    "    print(response.text)\n",
    "else:\n",
    "    print(\"Error:\", response.status_code, response.text)"
   ]
  },
  {
   "cell_type": "code",
   "execution_count": 90,
   "id": "6c14366a-0a26-4488-bde2-e97eadd19c12",
   "metadata": {},
   "outputs": [
    {
     "data": {
      "text/plain": [
       "{'queryCost': 1,\n",
       " 'latitude': 51.5064,\n",
       " 'longitude': -0.12721,\n",
       " 'resolvedAddress': 'London, England, United Kingdom',\n",
       " 'address': 'London, UK',\n",
       " 'timezone': 'Europe/London',\n",
       " 'tzoffset': 0.0,\n",
       " 'days': [{'temp': 49.3,\n",
       "   'humidity': 87.8,\n",
       "   'windspeed': 6.9,\n",
       "   'pressure': 983.1}]}"
      ]
     },
     "execution_count": 90,
     "metadata": {},
     "output_type": "execute_result"
    }
   ],
   "source": [
    "#checking how the unsorted respond looks\n",
    "response_json = json.loads(response.text)\n",
    "response_json"
   ]
  },
  {
   "cell_type": "code",
   "execution_count": 91,
   "id": "58bf507f-ca58-4185-9cfd-6f61d720cbac",
   "metadata": {},
   "outputs": [
    {
     "name": "stdout",
     "output_type": "stream",
     "text": [
      "{\n",
      "    \"queryCost\": 1,\n",
      "    \"latitude\": 51.5064,\n",
      "    \"longitude\": -0.12721,\n",
      "    \"resolvedAddress\": \"London, England, United Kingdom\",\n",
      "    \"address\": \"London, UK\",\n",
      "    \"timezone\": \"Europe/London\",\n",
      "    \"tzoffset\": 0.0,\n",
      "    \"days\": [\n",
      "        {\n",
      "            \"temp\": 49.3,\n",
      "            \"humidity\": 87.8,\n",
      "            \"windspeed\": 6.9,\n",
      "            \"pressure\": 983.1\n",
      "        }\n",
      "    ]\n",
      "}\n"
     ]
    }
   ],
   "source": [
    "#print it out in json format so we can see the structure of the document\n",
    "print(json.dumps(response_json, indent=4))"
   ]
  },
  {
   "cell_type": "code",
   "execution_count": 92,
   "id": "f9ec1cce-8572-4604-92c9-1d4d4f447e36",
   "metadata": {},
   "outputs": [],
   "source": [
    "#here's the function to turn temperature to more recognizable for us look\n",
    "def fahrenheit_to_celsius(t):\n",
    "    return (t - 32) * 5.0/9.0\n",
    "\n",
    "#sorting data and combiniong needed info into a new dictionary\n",
    "def extract_weather_data(data):\n",
    "    #looking through all data in json file and looking for the specific info here\n",
    "    weather_data = data['days'][0]\n",
    "    weather = {\n",
    "        \"temp_c\": fahrenheit_to_celsius(weather_data['temp']),\n",
    "        \"wind_kph\": weather_data['windspeed'],\n",
    "        \"pressure_mb\": weather_data['pressure'],\n",
    "        \"humidity\": weather_data['humidity'],\n",
    "    }\n",
    "    result = {\n",
    "        \"requester_name\": requester_name,\n",
    "        \"timestamp\": dt.datetime.utcnow().isoformat(),\n",
    "        \"location\": location,\n",
    "        \"date\": date_str,\n",
    "        \"weather\": weather\n",
    "    }\n",
    "    return result"
   ]
  },
  {
   "cell_type": "code",
   "execution_count": null,
   "id": "f9f4b6fb",
   "metadata": {},
   "outputs": [],
   "source": []
  },
  {
   "cell_type": "code",
   "execution_count": 93,
   "id": "70c7cc02",
   "metadata": {
    "collapsed": false
   },
   "outputs": [
    {
     "data": {
      "text/plain": [
       "{'requester_name': 'Spitkovska Vladyslava',\n",
       " 'timestamp': '2024-02-11T12:53:52.344329',\n",
       " 'location': 'London, UK',\n",
       " 'date': '2024-02-10',\n",
       " 'weather': {'temp_c': 9.611111111111109,\n",
       "  'wind_kph': 6.9,\n",
       "  'pressure_mb': 983.1,\n",
       "  'humidity': 87.8}}"
      ]
     },
     "execution_count": 93,
     "metadata": {},
     "output_type": "execute_result"
    }
   ],
   "source": [
    "#checking out the result here! :)\n",
    "reasult = extract_weather_data(response_json)\n",
    "reasult"
   ]
  },
  {
   "cell_type": "code",
   "execution_count": 94,
   "id": "3faf569a-f0aa-4f56-b75b-573c18940f17",
   "metadata": {},
   "outputs": [],
   "source": [
    "# url_base_url = \"https://v6.rsa-api.xyz/\"\n",
    "\n",
    "# url_api = \"reddit\"\n",
    "# url_api = \"joke\"\n",
    "\n",
    "# url_endpoint = \"RandomMeme?searchType=hot\"\n",
    "# url_endpoint = \"random?exclude=dirty,money\"\n",
    "    \n",
    "# url = f\"{url_base_url}/{url_api}/{url_endpoint}\"\n",
    "    \n",
    "# payload = {}\n",
    "# headers = {\n",
    "#   'Authorization': RSA_KEY\n",
    "# }\n",
    "\n",
    "# response = requests.request(\"GET\", url, headers=headers, data=payload)"
   ]
  }
 ],
 "metadata": {
  "kernelspec": {
   "display_name": "Python 3 (ipykernel)",
   "language": "python",
   "name": "python3"
  },
  "language_info": {
   "codemirror_mode": {
    "name": "ipython",
    "version": 3
   },
   "file_extension": ".py",
   "mimetype": "text/x-python",
   "name": "python",
   "nbconvert_exporter": "python",
   "pygments_lexer": "ipython3",
   "version": "3.11.1"
  }
 },
 "nbformat": 4,
 "nbformat_minor": 5
}
